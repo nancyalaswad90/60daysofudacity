{
  "nbformat": 4,
  "nbformat_minor": 0,
  "metadata": {
    "colab": {
      "name": "Classifying species of Iris flowers tutorial",
      "version": "0.3.2",
      "provenance": [],
      "collapsed_sections": [],
      "toc_visible": true,
      "include_colab_link": true
    },
    "kernelspec": {
      "name": "python3",
      "display_name": "Python 3"
    }
  },
  "cells": [
    {
      "cell_type": "markdown",
      "metadata": {
        "id": "view-in-github",
        "colab_type": "text"
      },
      "source": [
        "<a href=\"https://colab.research.google.com/github/nancyalaswad90/60daysofudacity/blob/master/Classifying_species_of_Iris_flowers_tutorial.ipynb\" target=\"_parent\"><img src=\"https://colab.research.google.com/assets/colab-badge.svg\" alt=\"Open In Colab\"/></a>"
      ]
    },
    {
      "cell_type": "markdown",
      "metadata": {
        "id": "_MBnaknfLbE9",
        "colab_type": "text"
      },
      "source": [
        "# Classifying species of Iris Flowers \n",
        "\n",
        "---\n"
      ]
    },
    {
      "cell_type": "markdown",
      "metadata": {
        "id": "WKpb7cIT1mUl",
        "colab_type": "text"
      },
      "source": [
        "**Learning Objectives:**\n",
        "  * Working with *iris flowers* dataset and understand it’s structure using statistical summaries and data visualization.\n",
        "  * Create multiple machine learning models, pick the best and evaluate the models.\n",
        "  * Make predictions"
      ]
    },
    {
      "cell_type": "markdown",
      "metadata": {
        "id": "2mzF6Wcv2kup",
        "colab_type": "text"
      },
      "source": [
        "In this  tutorial we will use [the iris dataset](https://archive.ics.uci.edu/ml/datasets/Iris), as we go keep in mind data science proccess.\n",
        "1.   Data Collection.\n",
        "2.   Data Cleaning and Prepration.\n",
        "3.   Data Exploration and Visualization.\n",
        "4.   Predictive Analytics.\n",
        "5.   Data productionization.\n"
      ]
    },
    {
      "cell_type": "markdown",
      "metadata": {
        "id": "-WhWi9vq5HZY",
        "colab_type": "text"
      },
      "source": [
        "## Import libraries"
      ]
    },
    {
      "cell_type": "markdown",
      "metadata": {
        "id": "djuTtNis4nRe",
        "colab_type": "text"
      },
      "source": [
        "There are five key library we will use:\n",
        "*scipy*, *numpy*, *matplotlib*, *pandas*, and *sklearn*"
      ]
    },
    {
      "cell_type": "code",
      "metadata": {
        "id": "xnwNFTtKLi5G",
        "colab_type": "code",
        "colab": {}
      },
      "source": [
        "# Load libraries\n",
        "import pandas\n",
        "from pandas.plotting import scatter_matrix\n",
        "import matplotlib.pyplot as plt\n",
        "from sklearn import model_selection\n",
        "from sklearn.metrics import classification_report\n",
        "from sklearn.metrics import confusion_matrix\n",
        "from sklearn.metrics import accuracy_score\n",
        "from sklearn.linear_model import LogisticRegression\n",
        "from sklearn.tree import DecisionTreeClassifier\n",
        "from sklearn.neighbors import KNeighborsClassifier\n",
        "from sklearn.discriminant_analysis import LinearDiscriminantAnalysis\n",
        "from sklearn.naive_bayes import GaussianNB\n",
        "from sklearn.svm import SVC"
      ],
      "execution_count": 0,
      "outputs": []
    },
    {
      "cell_type": "markdown",
      "metadata": {
        "id": "UeJfMf5a5VAg",
        "colab_type": "text"
      },
      "source": [
        "## Load Dataset"
      ]
    },
    {
      "cell_type": "markdown",
      "metadata": {
        "id": "XsEWzOjC5CRy",
        "colab_type": "text"
      },
      "source": [
        "This dataset used as the “hello world” dataset in machine learning.\n",
        "\n",
        "The dataset contains 150 observations of iris flowers. There are four variables(columns) of measurements of the flowers in centimeters. The fifth variable is the species of the flower observed. All observed flowers belong to one of three species.\n",
        "\n",
        "*In this step we are going to load the iris data from CSV file URL.*"
      ]
    },
    {
      "cell_type": "code",
      "metadata": {
        "id": "Qc_XjFJZL1fx",
        "colab_type": "code",
        "outputId": "02f42985-e96a-49c9-8ac9-7762438daf1d",
        "colab": {
          "base_uri": "https://localhost:8080/",
          "height": 208
        }
      },
      "source": [
        "# Load dataset\n",
        "!wget \"http://archive.ics.uci.edu/ml/machine-learning-databases/iris/iris.data\"\n",
        "names = ['sepal-length', 'sepal-width', 'petal-length', 'petal-width', 'class']\n",
        "dataset = pandas.read_csv(\"iris.data\", names=names)"
      ],
      "execution_count": 2,
      "outputs": [
        {
          "output_type": "stream",
          "text": [
            "--2019-08-07 02:39:44--  http://archive.ics.uci.edu/ml/machine-learning-databases/iris/iris.data\n",
            "Resolving archive.ics.uci.edu (archive.ics.uci.edu)... 128.195.10.252\n",
            "Connecting to archive.ics.uci.edu (archive.ics.uci.edu)|128.195.10.252|:80... connected.\n",
            "HTTP request sent, awaiting response... 200 OK\n",
            "Length: 4551 (4.4K) [application/x-httpd-php]\n",
            "Saving to: ‘iris.data’\n",
            "\n",
            "iris.data           100%[===================>]   4.44K  --.-KB/s    in 0s      \n",
            "\n",
            "2019-08-07 02:39:49 (336 MB/s) - ‘iris.data’ saved [4551/4551]\n",
            "\n"
          ],
          "name": "stdout"
        }
      ]
    },
    {
      "cell_type": "markdown",
      "metadata": {
        "id": "U0a43nmR5ZCq",
        "colab_type": "text"
      },
      "source": [
        "## Explore and summarize the Dataset"
      ]
    },
    {
      "cell_type": "markdown",
      "metadata": {
        "id": "k8IzRhxb5sTU",
        "colab_type": "text"
      },
      "source": [
        "Now it is time to take a look at the data.\n",
        "\n",
        "We can get a quick idea of how many instances (rows or observations) and how many attributes (columns or variables) the data contains with the shape property.\n"
      ]
    },
    {
      "cell_type": "code",
      "metadata": {
        "id": "yYK1uFTY0cBK",
        "colab_type": "code",
        "outputId": "143dba59-4501-496a-9ceb-15e25dd05880",
        "colab": {
          "base_uri": "https://localhost:8080/",
          "height": 34
        }
      },
      "source": [
        "# shape\n",
        "print(dataset.shape)"
      ],
      "execution_count": 3,
      "outputs": [
        {
          "output_type": "stream",
          "text": [
            "(150, 5)\n"
          ],
          "name": "stdout"
        }
      ]
    },
    {
      "cell_type": "markdown",
      "metadata": {
        "id": "p0Vz5ZdK6D7y",
        "colab_type": "text"
      },
      "source": [
        "Let's have an actual eyeball look "
      ]
    },
    {
      "cell_type": "code",
      "metadata": {
        "id": "J8Hi5n6R0h64",
        "colab_type": "code",
        "outputId": "b314822d-edc2-4847-e24b-aa55cfb89f3f",
        "colab": {
          "base_uri": "https://localhost:8080/",
          "height": 208
        }
      },
      "source": [
        "# head\n",
        "print(dataset.head(10))"
      ],
      "execution_count": 4,
      "outputs": [
        {
          "output_type": "stream",
          "text": [
            "   sepal-length  sepal-width  petal-length  petal-width        class\n",
            "0           5.1          3.5           1.4          0.2  Iris-setosa\n",
            "1           4.9          3.0           1.4          0.2  Iris-setosa\n",
            "2           4.7          3.2           1.3          0.2  Iris-setosa\n",
            "3           4.6          3.1           1.5          0.2  Iris-setosa\n",
            "4           5.0          3.6           1.4          0.2  Iris-setosa\n",
            "5           5.4          3.9           1.7          0.4  Iris-setosa\n",
            "6           4.6          3.4           1.4          0.3  Iris-setosa\n",
            "7           5.0          3.4           1.5          0.2  Iris-setosa\n",
            "8           4.4          2.9           1.4          0.2  Iris-setosa\n",
            "9           4.9          3.1           1.5          0.1  Iris-setosa\n"
          ],
          "name": "stdout"
        }
      ]
    },
    {
      "cell_type": "markdown",
      "metadata": {
        "id": "nHmDJ0Qf6TWs",
        "colab_type": "text"
      },
      "source": [
        "Now we can take a look at statistical-summary of each attribute.\n",
        "\n",
        "This includes the count, mean, standard deviation, the min and max values as well as some percentiles.\n"
      ]
    },
    {
      "cell_type": "code",
      "metadata": {
        "id": "gD-Pm-k80j07",
        "colab_type": "code",
        "outputId": "1285b3a5-6136-44e9-dae6-9e25cc9d2a60",
        "colab": {
          "base_uri": "https://localhost:8080/",
          "height": 173
        }
      },
      "source": [
        "# descriptions\n",
        "print(dataset.describe())"
      ],
      "execution_count": 5,
      "outputs": [
        {
          "output_type": "stream",
          "text": [
            "       sepal-length  sepal-width  petal-length  petal-width\n",
            "count    150.000000   150.000000    150.000000   150.000000\n",
            "mean       5.843333     3.054000      3.758667     1.198667\n",
            "std        0.828066     0.433594      1.764420     0.763161\n",
            "min        4.300000     2.000000      1.000000     0.100000\n",
            "25%        5.100000     2.800000      1.600000     0.300000\n",
            "50%        5.800000     3.000000      4.350000     1.300000\n",
            "75%        6.400000     3.300000      5.100000     1.800000\n",
            "max        7.900000     4.400000      6.900000     2.500000\n"
          ],
          "name": "stdout"
        }
      ]
    },
    {
      "cell_type": "markdown",
      "metadata": {
        "id": "Q-2Y6FO85yUv",
        "colab_type": "text"
      },
      "source": [
        "## Data Visualization"
      ]
    },
    {
      "cell_type": "markdown",
      "metadata": {
        "id": "HUyYoC7U7DNp",
        "colab_type": "text"
      },
      "source": [
        "let's extend our knowledge with some visualizations"
      ]
    },
    {
      "cell_type": "code",
      "metadata": {
        "id": "qSdoO2uf54A8",
        "colab_type": "code",
        "outputId": "beea2b3b-4f67-4a6b-db51-c66b4421d2f1",
        "colab": {
          "base_uri": "https://localhost:8080/",
          "height": 281
        }
      },
      "source": [
        "# histograms\n",
        "dataset.hist()\n",
        "plt.show()"
      ],
      "execution_count": 6,
      "outputs": [
        {
          "output_type": "display_data",
          "data": {
            "image/png": "iVBORw0KGgoAAAANSUhEUgAAAXQAAAEICAYAAABPgw/pAAAABHNCSVQICAgIfAhkiAAAAAlwSFlz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\n",
            "text/plain": [
              "<Figure size 432x288 with 4 Axes>"
            ]
          },
          "metadata": {
            "tags": []
          }
        }
      ]
    },
    {
      "cell_type": "markdown",
      "metadata": {
        "id": "79_U8uHx7ffq",
        "colab_type": "text"
      },
      "source": [
        "As we see from the above graph; Two of the input variables have a Gaussian distribution. This is useful to note as we can use algorithms that can exploit this assumption.\n"
      ]
    },
    {
      "cell_type": "markdown",
      "metadata": {
        "id": "2DZyzeiY78xL",
        "colab_type": "text"
      },
      "source": [
        "__________________________________________________________________________"
      ]
    },
    {
      "cell_type": "markdown",
      "metadata": {
        "id": "_3SEhtey77xr",
        "colab_type": "text"
      },
      "source": [
        "Now we can look at the interactions between the variables.\n",
        "\n",
        "We can use scatterplots to display all pairs of attributes. This can be helpful to spot structured relationships between input variables.\n",
        "\n"
      ]
    },
    {
      "cell_type": "code",
      "metadata": {
        "id": "HONcJVmS01tB",
        "colab_type": "code",
        "outputId": "a8521d9b-b724-40d8-beb1-4ff9b5669142",
        "colab": {
          "base_uri": "https://localhost:8080/",
          "height": 286
        }
      },
      "source": [
        "# scatter plot matrix\n",
        "scatter_matrix(dataset)\n",
        "plt.show()"
      ],
      "execution_count": 7,
      "outputs": [
        {
          "output_type": "display_data",
          "data": {
            "image/png": "iVBORw0KGgoAAAANSUhEUgAAAYIAAAENCAYAAAACHGKEAAAABHNCSVQICAgIfAhkiAAAAAlwSFlz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\nEChz/h8uG1xjwnjYWAAAAABJRU5ErkJggg==\n",
            "text/plain": [
              "<Figure size 432x288 with 16 Axes>"
            ]
          },
          "metadata": {
            "tags": []
          }
        }
      ]
    },
    {
      "cell_type": "markdown",
      "metadata": {
        "id": "TsglBmFj5-Nm",
        "colab_type": "text"
      },
      "source": [
        "## Build models\n",
        "\n",
        "Now we are ready to create some models\n",
        "\n",
        "Here is what we are going to cover in this step:\n",
        "\n",
        "Separate out a validation dataset.\n",
        "\n",
        "Set-up the test harness to use 10-fold cross validation (means evaluate each algorithm 10 times).\n",
        "\n",
        "Build 5 different models to predict species from flower measurements\n",
        "\n",
        "Select the best model.\n"
      ]
    },
    {
      "cell_type": "markdown",
      "metadata": {
        "id": "7MXkGJWD2jkL",
        "colab_type": "text"
      },
      "source": [
        "We will split our data into two, 80% of which we will use to train our models and 20% that we will hold back as a validation dataset.\n"
      ]
    },
    {
      "cell_type": "code",
      "metadata": {
        "id": "3uy8pgiJ05ar",
        "colab_type": "code",
        "colab": {}
      },
      "source": [
        "# Split-out validation dataset\n",
        "array = dataset.values\n",
        "X = array[:,0:4]\n",
        "Y = array[:,4]\n",
        "validation_size = 0.20\n",
        "seed = 7\n",
        "X_train, X_validation, Y_train, Y_validation = model_selection.train_test_split(X, Y, test_size=validation_size, random_state=seed)"
      ],
      "execution_count": 0,
      "outputs": []
    },
    {
      "cell_type": "markdown",
      "metadata": {
        "id": "87xOIKrW2uDp",
        "colab_type": "text"
      },
      "source": [
        "You now have training data in the X_train and Y_train for preparing models and a X_validation and Y_validation sets that we can use later.\n"
      ]
    },
    {
      "cell_type": "markdown",
      "metadata": {
        "id": "7o0Bz3at9y6g",
        "colab_type": "text"
      },
      "source": [
        "*Note: we used a python slice to select the columns in the NumPy array. If this is new to you, you might want to check Python slice*"
      ]
    },
    {
      "cell_type": "markdown",
      "metadata": {
        "id": "aAA6Z8pr9bXe",
        "colab_type": "text"
      },
      "source": [
        "__________________________________________________________________________"
      ]
    },
    {
      "cell_type": "markdown",
      "metadata": {
        "id": "BbCf2FR121vP",
        "colab_type": "text"
      },
      "source": [
        "Now let’s evaluate 3 different algorithms:\n",
        "\n",
        "*      *Logistic Regression (LR).*\n",
        "\n",
        "*      *K-Nearest Neighbors (KNN).*\n",
        "\n",
        "*      *Classification and Regression Trees (CART).*\n",
        "\n",
        "*Note: We encourge you to read about this algorithms it's easy to find them on wikipedia, also feel free to ask in the discussion forums.*"
      ]
    },
    {
      "cell_type": "code",
      "metadata": {
        "id": "cJ_885451AHA",
        "colab_type": "code",
        "outputId": "4bc37dbb-8efc-4f46-e8de-09cc70ebb2a2",
        "colab": {
          "base_uri": "https://localhost:8080/",
          "height": 86
        }
      },
      "source": [
        "# Test options and evaluation metric\n",
        "seed = 7\n",
        "scoring = 'accuracy'\n",
        "models = []\n",
        "models.append(('LR', LogisticRegression(solver='liblinear', multi_class='ovr')))\n",
        "models.append(('KNN', KNeighborsClassifier()))\n",
        "models.append(('CART', DecisionTreeClassifier()))\n",
        "# evaluate each model in turn\n",
        "print(\"Now we have 6 models and accuracy estimations for each. Next step is selecting the most accurate model.\")\n",
        "results = []\n",
        "names = []\n",
        "for name, model in models:\n",
        "\tkfold = model_selection.KFold(n_splits=10, random_state=seed)\n",
        "\tcv_results = model_selection.cross_val_score(model, X_train, Y_train, cv=kfold, scoring=scoring)\n",
        "\tresults.append(cv_results)\n",
        "\tnames.append(name)\n",
        "\tmsg = \"%s: %f (%f)\" % (name, cv_results.mean(), cv_results.std())\n",
        "\tprint(msg)"
      ],
      "execution_count": 10,
      "outputs": [
        {
          "output_type": "stream",
          "text": [
            "Now we have 6 models and accuracy estimations for each. Next step is selecting the most accurate model.\n",
            "LR: 0.966667 (0.040825)\n",
            "KNN: 0.983333 (0.033333)\n",
            "CART: 0.975000 (0.038188)\n"
          ],
          "name": "stdout"
        }
      ]
    },
    {
      "cell_type": "markdown",
      "metadata": {
        "id": "jabGXz5g_iuR",
        "colab_type": "text"
      },
      "source": [
        "__________________________________________________________________________"
      ]
    },
    {
      "cell_type": "markdown",
      "metadata": {
        "id": "CrN3A2Re38DX",
        "colab_type": "text"
      },
      "source": [
        "We can also create a plot of the model evaluation results and compare the spread and the mean accuracy of each model. There is a population of accuracy measures for each algorithm because each algorithm was evaluated 10 times (10 fold cross validation)."
      ]
    },
    {
      "cell_type": "code",
      "metadata": {
        "id": "tAO9jw3c1EbD",
        "colab_type": "code",
        "outputId": "03cc6f25-92db-4e4e-cc2b-fe6eea02c560",
        "colab": {
          "base_uri": "https://localhost:8080/",
          "height": 332
        }
      },
      "source": [
        "# Compare Algorithms\n",
        "fig = plt.figure()\n",
        "fig.suptitle('Algorithm Comparison')\n",
        "ax = fig.add_subplot(111)\n",
        "plt.boxplot(results)\n",
        "ax.set_xticklabels(names)\n",
        "plt.show()\n",
        "print(\"You can see that the box and whisker plots are squashed at the top of the range, with many samples achieving near 100% accuracy.\")"
      ],
      "execution_count": 11,
      "outputs": [
        {
          "output_type": "display_data",
          "data": {
            "image/png": "iVBORw0KGgoAAAANSUhEUgAAAX0AAAEVCAYAAAAM3jVmAAAABHNCSVQICAgIfAhkiAAAAAlwSFlz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\nfUlqiKEvSQ0x9CWpIYa+JDXE0Jekhvw/ve+1ARTHIgcAAAAASUVORK5CYII=\n",
            "text/plain": [
              "<Figure size 432x288 with 1 Axes>"
            ]
          },
          "metadata": {
            "tags": []
          }
        },
        {
          "output_type": "stream",
          "text": [
            "You can see that the box and whisker plots are squashed at the top of the range, with many samples achieving near 100% accuracy.\n"
          ],
          "name": "stdout"
        }
      ]
    },
    {
      "cell_type": "markdown",
      "metadata": {
        "id": "quEzKfDI5A7J",
        "colab_type": "text"
      },
      "source": [
        "## Make Predictions\n",
        "\n",
        "The KNN algorithm is very simple and was an accurate model based on our tests. Now we want to get an idea of the accuracy of the model on our validation set.\n",
        "\n",
        "We can run the KNN model directly on the validation set and summarize the results as a final accuracy score, a confusion matrix and a classification report.\n",
        "\n"
      ]
    },
    {
      "cell_type": "code",
      "metadata": {
        "id": "IKs6iOZH1JBI",
        "colab_type": "code",
        "outputId": "ef0a33e9-00e0-418d-f2bc-b21553b02e24",
        "colab": {
          "base_uri": "https://localhost:8080/",
          "height": 260
        }
      },
      "source": [
        "# Make predictions on validation dataset\n",
        "knn = KNeighborsClassifier()\n",
        "knn.fit(X_train, Y_train)\n",
        "predictions = knn.predict(X_validation)\n",
        "print(accuracy_score(Y_validation, predictions))\n",
        "print(confusion_matrix(Y_validation, predictions))\n",
        "print(classification_report(Y_validation, predictions))"
      ],
      "execution_count": 12,
      "outputs": [
        {
          "output_type": "stream",
          "text": [
            "0.9\n",
            "[[ 7  0  0]\n",
            " [ 0 11  1]\n",
            " [ 0  2  9]]\n",
            "                 precision    recall  f1-score   support\n",
            "\n",
            "    Iris-setosa       1.00      1.00      1.00         7\n",
            "Iris-versicolor       0.85      0.92      0.88        12\n",
            " Iris-virginica       0.90      0.82      0.86        11\n",
            "\n",
            "       accuracy                           0.90        30\n",
            "      macro avg       0.92      0.91      0.91        30\n",
            "   weighted avg       0.90      0.90      0.90        30\n",
            "\n"
          ],
          "name": "stdout"
        }
      ]
    },
    {
      "cell_type": "markdown",
      "metadata": {
        "id": "MME47QK9Bi-N",
        "colab_type": "text"
      },
      "source": [
        "We can see that the accuracy is 0.9 or 90%.\n",
        "\n",
  
      ]
    }
  ]
}
